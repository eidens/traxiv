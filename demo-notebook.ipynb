{
 "cells": [
  {
   "cell_type": "markdown",
   "metadata": {},
   "source": [
    "# Setup"
   ]
  },
  {
   "cell_type": "markdown",
   "metadata": {},
   "source": [
    "Before starting the demo, install the python virtual environment and enable the use of this environemnt in jupyter."
   ]
  },
  {
   "cell_type": "markdown",
   "metadata": {},
   "source": [
    "Install and activate the python virtual environment:\n",
    "\n",
    "    python3 -m venv .venv\n",
    "    source .venv/bin/activate\n",
    "    pip install -r requirements.txt"
   ]
  },
  {
   "cell_type": "markdown",
   "metadata": {},
   "source": [
    "Enable jupyter to use the virtual environment, as nicely explained in this post: https://janakiev.com/blog/jupyter-virtual-envs/:\n",
    "\n",
    "After having activated the virtual environment, run:\n",
    "        \n",
    "    pip install ipykernel\n",
    "    python -m ipykernel install --user --name=.venv\n",
    "    \n",
    "Then start jupyter:\n",
    "\n",
    "    jupyter notebook"
   ]
  },
  {
   "cell_type": "markdown",
   "metadata": {},
   "source": [
    "## Example 1"
   ]
  },
  {
   "cell_type": "markdown",
   "metadata": {},
   "source": [
    "Retrieve preprints that were posted within a given time range and that were published in journal from a given publisher."
   ]
  },
  {
   "cell_type": "code",
   "execution_count": null,
   "metadata": {},
   "outputs": [],
   "source": [
    "from src.biorxiv import retrieve"
   ]
  },
  {
   "cell_type": "code",
   "execution_count": null,
   "metadata": {},
   "outputs": [],
   "source": [
    "prefix = '10.15252' # the doi prefix for EMBO Press\n",
    "start = '2019-08-01' # start date of the time range\n",
    "end = '2019-08-31' # end date of the time range"
   ]
  },
  {
   "cell_type": "code",
   "execution_count": null,
   "metadata": {},
   "outputs": [],
   "source": [
    "results = retrieve(prefix, start, end)"
   ]
  },
  {
   "cell_type": "code",
   "execution_count": null,
   "metadata": {},
   "outputs": [],
   "source": [
    "for preprint in results:\n",
    "        print(preprint.biorxiv_doi, preprint.published_doi, preprint.preprint_category)"
   ]
  },
  {
   "cell_type": "markdown",
   "metadata": {},
   "source": [
    "## Example 2"
   ]
  },
  {
   "cell_type": "markdown",
   "metadata": {},
   "source": [
    "Posting a simple annotation and deleting it using the `toolbox` module."
   ]
  },
  {
   "cell_type": "markdown",
   "metadata": {},
   "source": [
    "To run this demonstration, you have to \n",
    "\n",
    "1. have a hypothes.is account and an api_key. See how to obtain an hypothes.is api key at https://web.hypothes.is/developers/.\n",
    "2. create the group 'test' in your hypothes.is account, so that we can post a demonstration note to this group.\n",
    "3. Edit `.env.example` to include your hypothes.is username and api_key and save this file as `.env`:\n",
    "```\n",
    "    # username for the hypothes.is account\n",
    "    HYPOTHESIS_USER=...\n",
    "\n",
    "    # hypothes.is api key associated with the user\n",
    "    HYPOTHESIS_API_KEY=...\n",
    "```"
   ]
  },
  {
   "cell_type": "code",
   "execution_count": null,
   "metadata": {},
   "outputs": [],
   "source": [
    "from src import HYPO, HYPOTHESIS_USER # HYPO is an instance of hypothepy.v1.api.HypoApi that has been initialized with the crendentials of the user.\n",
    "from src.utils import get_groupid # simple utility to retrieve the hyopthe.is groupid from the group name\n",
    "from src.toolbox import HypoPost, Target, post_one # our tools to handle hypothes.is posts"
   ]
  },
  {
   "cell_type": "code",
   "execution_count": null,
   "metadata": {},
   "outputs": [],
   "source": [
    "groupid = get_groupid('test') # retrieves the id assigned by hypothes.is to the group named test.\n",
    "print(groupid)"
   ]
  },
  {
   "cell_type": "markdown",
   "metadata": {},
   "source": [
    "Create the post using permissions that grants you update, delete and admin priviledge to the post and allows members of the private 'test' group to read it.\n",
    "\n",
    "The post will be linked to the specified target page. It will have a smple '**Great work!**' markdown text and the tag 'EMBOpress'."
   ]
  },
  {
   "cell_type": "code",
   "execution_count": null,
   "metadata": {},
   "outputs": [],
   "source": [
    "perms = HYPO.helpers.permissions(\n",
    "    read=[f'group:{groupid}'],\n",
    "    update=[f'acct:{HYPOTHESIS_USER}@hypothes.is'],\n",
    "    delete=[f'acct:{HYPOTHESIS_USER}@hypothes.is'],\n",
    "    admin=[f'acct:{HYPOTHESIS_USER}@hypothes.is']\n",
    ")\n",
    "target = Target(\"https://www.embopress.org/journal/17444292\", \"Molecular Systems Biology\")\n",
    "post = HypoPost(annotation_text=\"**Great work!**\", tags=['EMBOpress'])"
   ]
  },
  {
   "cell_type": "markdown",
   "metadata": {},
   "source": [
    "Send the post to hypothes.is to add it to your group:"
   ]
  },
  {
   "cell_type": "code",
   "execution_count": null,
   "metadata": {},
   "outputs": [],
   "source": [
    "response = post_one(perms, groupid, target, post)\n",
    "if response.status_code == 200:\n",
    "    hyp_id = response.json()['id']\n",
    "    print(f\"posted {hyp_id}\")"
   ]
  },
  {
   "cell_type": "markdown",
   "metadata": {},
   "source": [
    "Visit https://www.embopress.org/journal/17444292 open the hypothesis Chrome tool, login with your username and you should see the post under your private group.\n",
    "\n",
    "You can also go to your hypothes.is account page and see the post there (use the groupid that was returned above): https://hypothes.is/groups/<groupid>/test"
   ]
  },
  {
   "cell_type": "markdown",
   "metadata": {},
   "source": [
    "Now we cleanup and remove the post using the unique identifier assigned by hypothes.is upon posting:"
   ]
  },
  {
   "cell_type": "code",
   "execution_count": null,
   "metadata": {},
   "outputs": [],
   "source": [
    "print(f\"deleting {hyp_id}\")\n",
    "response = HYPO.annotations.delete(hyp_id)\n",
    "if response.status_code == 200:\n",
    "    print(f\"deleted {hyp_id}\")"
   ]
  },
  {
   "cell_type": "markdown",
   "metadata": {},
   "source": [
    "Verify that the post has disappeared from https://hypothes.is/groups/<groupid>/test"
   ]
  },
  {
   "cell_type": "markdown",
   "metadata": {},
   "source": [
    "## Example 3"
   ]
  },
  {
   "cell_type": "markdown",
   "metadata": {},
   "source": [
    "Using a template to generate templated posts.\n",
    "\n",
    "First, extend the base class `HypoPost` to add a method that generates the text of the annotation with a simple pyhon `string.Template` object."
   ]
  },
  {
   "cell_type": "code",
   "execution_count": null,
   "metadata": {},
   "outputs": [],
   "source": [
    "from string import Template\n",
    "from src.toolbox import HypoPost\n",
    "\n",
    "class HypoPostTemplated(HypoPost):\n",
    "    \"\"\"\n",
    "    Extends HypoPost to generate a templated annotation.\n",
    "    \"\"\"\n",
    "\n",
    "    def generate(self, msg: str, template: Template):\n",
    "        \"\"\"\n",
    "        Generates the text of the post from a Template.\n",
    "        \n",
    "        Arguments:\n",
    "            msg (str): the specific message to be inserted.\n",
    "            template (Template): a simple string.Template object to generate the text of the annotation with appropriate substitution\n",
    "        \"\"\"\n",
    "\n",
    "        self.annotation_text = template.substitute({'msg': msg})\n",
    "        self.tags = ['EMBOPress']"
   ]
  },
  {
   "cell_type": "markdown",
   "metadata": {},
   "source": [
    "Define the template with the appropriate `$msg` substitution variable:"
   ]
  },
  {
   "cell_type": "code",
   "execution_count": null,
   "metadata": {},
   "outputs": [],
   "source": [
    "my_template = Template('**This is a simple demo of templated post.**\\n$msg\\n---\\nIsn\\'t it nice?') # this would be normally imported from a file"
   ]
  },
  {
   "cell_type": "markdown",
   "metadata": {},
   "source": [
    "Create an instance of the HypoPostTemplated object and generate the markdoown text:"
   ]
  },
  {
   "cell_type": "code",
   "execution_count": null,
   "metadata": {},
   "outputs": [],
   "source": [
    "my_post = HypoPostTemplated()\n",
    "my_post.generate('### Great work!\\n', my_template)\n",
    "print(my_post.annotation_text)"
   ]
  },
  {
   "cell_type": "markdown",
   "metadata": {},
   "source": [
    "Let's post it using the permissions `perms`, `groupid` and `target` from example 2 above."
   ]
  },
  {
   "cell_type": "code",
   "execution_count": null,
   "metadata": {},
   "outputs": [],
   "source": [
    "response = post_one(perms, groupid, target, my_post)\n",
    "if response.status_code == 200:\n",
    "    hyp_id = response.json()['id']\n",
    "    print(f\"posted {hyp_id}\")"
   ]
  },
  {
   "cell_type": "markdown",
   "metadata": {},
   "source": [
    "Check the nice post at https://www.embopress.org/journal/17444292 "
   ]
  },
  {
   "cell_type": "markdown",
   "metadata": {},
   "source": [
    "And purge:"
   ]
  },
  {
   "cell_type": "code",
   "execution_count": null,
   "metadata": {},
   "outputs": [],
   "source": [
    "print(f\"deleting {hyp_id}\")\n",
    "response = HYPO.annotations.delete(hyp_id)\n",
    "if response.status_code == 200:\n",
    "    print(f\"deleted {hyp_id}\")"
   ]
  },
  {
   "cell_type": "code",
   "execution_count": null,
   "metadata": {},
   "outputs": [],
   "source": []
  }
 ],
 "metadata": {
  "kernelspec": {
   "display_name": ".venv",
   "language": "python",
   "name": ".venv"
  },
  "language_info": {
   "codemirror_mode": {
    "name": "ipython",
    "version": 3
   },
   "file_extension": ".py",
   "mimetype": "text/x-python",
   "name": "python",
   "nbconvert_exporter": "python",
   "pygments_lexer": "ipython3",
   "version": "3.7.4"
  }
 },
 "nbformat": 4,
 "nbformat_minor": 2
}
